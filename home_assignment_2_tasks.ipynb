{
 "cells": [
  {
   "cell_type": "markdown",
   "id": "c295abce",
   "metadata": {},
   "source": [
    "# Home Assignment 2 (30 points)\n",
    "\n",
    "Submit your solutions in teams of 5 students. Unless explicitly agreed otherwise in advance, **submissions from teams with more or less members will NOT be graded**.\n",
    "List all members of the team with their student ID in the cell below, and submit only one notebook per team. Only submit a notebook, do not submit the dataset(s) you used. Also, do NOT compress/zip your submission (incorrect submissions get 0 points)!\n",
    "\n",
    "You may use the code from the exercises and basic functionalities that are explained in official documentation of Python packages without citing, __all other sources must be cited__. In case of plagiarism (copying solutions from other teams or from the internet) ALL team members may be expelled from the course without warning.\n",
    "\n",
    "#### General guidelines:\n",
    "* Make sure that your code is executable, any task for which the code does not directly run on our machine will be graded with 0 points. We use the conda environment given below.\n",
    "* If you use packages that are not available on the default or conda-forge channel, list them below. Also add a link to installation instructions.\n",
    "* Demonstrate that your code works by providing outputs for test inputs or with simple unit tests (`assert actual == expected`).\n",
    "* Ensure that the notebook does not rely on the current notebook or system state!\n",
    "  * Use `Kernel --> Restart & Run All` to see if you are using any definitions, variables etc. that \n",
    "    are not in scope anymore.\n",
    "  * Do not rename any of the datasets you use, and load it from the same directory that your ipynb-notebook is located in, i.e., your working directory.\n",
    "* Make sure you clean up your code before submission, e.g., properly align your code, and delete every line of code that you do not need anymore, even if you may have experimented with it. Minimize usage of global variables. Avoid reusing variable names multiple times!\n",
    "* Ensure your code/notebook terminates in reasonable time.\n",
    "* Feel free to use comments in the code. While we do not require them to get full marks, they may help us in case your code has minor errors.\n",
    "* For questions that require a textual answer, please do not write the answer as a comment in a code cell, but in a Markdown cell below the code. Always remember to provide sufficient justification for all answers.\n",
    "* You may create as many additional cells as you want, just make sure that the solutions to the individual tasks can be found near the corresponding assignment.\n",
    "* If you have any general question regarding the understanding of some task, do not hesitate to post on Slack, so we can clear up such questions for all students in the course.\n",
    "\n",
    "\n",
    "Conda environment used for grading:\n",
    "\n",
    "```yml\n",
    "name: nlp-ss2024\n",
    "channels:\n",
    "  - defaults\n",
    "dependencies:\n",
    "  - python=3.11\n",
    "  - pip\n",
    "  - pip:\n",
    "    - numpy==1.26.4\n",
    "    - nltk==3.8.1\n",
    "    - scikit-learn==1.4.2\n",
    "    - scipy==1.13.0\n",
    "    - notebook\n",
    "```\n",
    "\n",
    "\n",
    "### AI Disclosure\n",
    "\n",
    "Did you use any AI assistance to complete this homework? If so, please also specify what AI you used.\n",
    "   - [ ] Yes, we used the following assistants: ....\n",
    "   - [ ] No \n",
    "\n",
    "---\n",
    "*(only complete the below questions if you answered yes above)*\n",
    "\n",
    "* If you used a large language model to assist you, please paste *all* of the prompts that you used below. Add a separate bullet for each prompt, and specify which problem is associated with which prompt.\n",
    "    * *your response here*\n",
    "* **Free response**: For each problem for which you used assistance, describe your overall experience with the AI. How helpful was it? Did it just directly give you a good answer, or did you have to edit it? Was its output ever obviously wrong or irrelevant? Did you use it to get the answer or check your own answer?\n",
    "    * *your response here*"
   ]
  },
  {
   "cell_type": "code",
   "execution_count": 1,
   "id": "29e66e9f",
   "metadata": {},
   "outputs": [],
   "source": [
    "# UMR Usernames of all group members (<Username>@students.uni-marburg.de)\n",
    "team_members = [\n",
    "    \"Student1\",\n",
    "    \"Student2\",\n",
    "    \"...\"\n",
    "]"
   ]
  },
  {
   "cell_type": "markdown",
   "id": "d7a19c09",
   "metadata": {},
   "source": [
    "Additional packages (if any):\n",
    " - Example: `powerlaw`, https://github.com/jeffalstott/powerlaw"
   ]
  },
  {
   "cell_type": "code",
   "execution_count": 39,
   "id": "7c5e2d05",
   "metadata": {
    "ExecuteTime": {
     "end_time": "2024-05-17T11:27:56.485918400Z",
     "start_time": "2024-05-17T11:27:56.423929700Z"
    }
   },
   "outputs": [],
   "source": [
    "from typing import List, Union, Dict, Set, Tuple, Sequence\n",
    "from numpy.typing import NDArray"
   ]
  },
  {
   "cell_type": "markdown",
   "id": "91edf14c",
   "metadata": {},
   "source": [
    "    ### Task 1: WordNet word similarity\n",
    "\n",
    "In this task, we want to implement the similarity between two words in WordNet (https://www.nltk.org/api/nltk.corpus.reader.wordnet.html) using the NLTK package. The word similarity between two words is given by\n",
    "$$\n",
    "\\frac{1}{1+d}\n",
    "$$\n",
    "where $d$ is the distance of the shortest path in the hypernym/hyponym hierarchy tree in WordNet between any pair of synsets that are associated with the two input words.\n",
    "\n",
    "From NLTK you should __only__ use the `synsets`, `hypernyms` and `instance_hpyernyms` functions.\n",
    "\n",
    "The following subtasks build on each other, i.e. the functions of the preceding subtasks can be used for the current subtask.\n",
    "\n",
    "_Note: the distance of a synset to itself is 0, the distance to a direct hypernym is 1, ..._"
   ]
  },
  {
   "cell_type": "code",
   "execution_count": 40,
   "id": "7f2b0d09",
   "metadata": {
    "ExecuteTime": {
     "end_time": "2024-05-17T11:29:41.927998100Z",
     "start_time": "2024-05-17T11:29:41.910696100Z"
    }
   },
   "outputs": [],
   "source": [
    "from nltk.corpus import wordnet as wn\n",
    "from nltk.corpus.reader.wordnet import Synset"
   ]
  },
  {
   "cell_type": "markdown",
   "id": "f3a6c82f",
   "metadata": {},
   "source": [
    "__a)__ Write a function ``shortest_paths_to`` that takes a synset as input and computes the shortest paths to all nodes on the way to the root in the hypernym hierarchy tree of WordNet. The function should return a dictionary that matches all visited hypernyms on the way(s) to the root to the distance of the shortest path from the input synset. Consider that a synset might have multiple paths to the root and that some nodes might appear in multiple paths. However, we only want to store the shortest distances. Moreover, keep in mind that the input synset might be an instance. \n",
    "\n",
    "Use the signature in the cell below.\n",
    "\n",
    "__Example:__ _Calling_ ``shortest_paths_to(s)`` _on the synset_ ``s = wn.synset('calculator.n.01')`` _should yield the following result:_\n",
    "\n",
    "``\n",
    "{Synset('calculator.n.01'): 0,\n",
    " Synset('expert.n.01'): 1,\n",
    " Synset('person.n.01'): 2,\n",
    " Synset('causal_agent.n.01'): 3,\n",
    " Synset('organism.n.01'): 3,\n",
    " Synset('physical_entity.n.01'): 4,\n",
    " Synset('living_thing.n.01'): 4,\n",
    " Synset('entity.n.01'): 5,\n",
    " Synset('whole.n.02'): 5,\n",
    " Synset('object.n.01'): 6}\n",
    "``"
   ]
  },
  {
   "cell_type": "code",
   "execution_count": 4,
   "id": "c9d66e04",
   "metadata": {},
   "outputs": [],
   "source": [
    "def shortest_paths_to(start_syn: Synset) -> Dict[Synset, int]:\n",
    "    \"\"\"Compute the shortest distance to all nodes on paths to the root.\n",
    "    :param start_syn: synset to which we want to compute the shortest distances\n",
    "    :return: dict that matches all visited hypernyms to their distance to the input synset\n",
    "    \"\"\"\n",
    "    # your code here\n",
    "    return"
   ]
  },
  {
   "cell_type": "markdown",
   "id": "3fda6f14",
   "metadata": {},
   "source": [
    "__b)__ Write a function ``merge_paths`` that gets two dictionaries that map synsets to shortest distances (you can assume they were created by the function from __a)__) and merges them. The function shold return a dictionary that includes all synsets and distances that appear in any of the input dictionaries. If a synset appears in both input dictionaries, we want to keep the shorter distance. Leave the input dictionaries unaltered.\n",
    "\n",
    "Use the signature in the cell below."
   ]
  },
  {
   "cell_type": "code",
   "execution_count": 5,
   "id": "41ffe524",
   "metadata": {},
   "outputs": [],
   "source": [
    "def merge_paths(p1: Dict[Synset, int], p2: Dict[Synset, int]) -> Dict[Synset, int]:\n",
    "    \"\"\"Merge two paths keeping the shorter distance for synsets that appear more than once.\n",
    "    :param p1: first dict that maps synsets to their shortest distances\n",
    "    :param p2: second dict that maps synsets to their shortest distances\n",
    "    :return: merged dict\n",
    "    \"\"\"\n",
    "    # your code here\n",
    "    return"
   ]
  },
  {
   "cell_type": "markdown",
   "id": "ade7ce46",
   "metadata": {},
   "source": [
    "__c)__ Write a function ``all_hypernym_paths`` that gets a word as input and returns a dictionary that maps all hypernyms that are reachable from the set of synsets associated with the word to the shortest distance leading there.\n",
    "\n",
    "Use the signature in the cell below."
   ]
  },
  {
   "cell_type": "code",
   "execution_count": 6,
   "id": "13112dc7",
   "metadata": {},
   "outputs": [],
   "source": [
    "def all_hypernym_paths(word: str) -> Dict[Synset, int]:\n",
    "    \"\"\"Get all hypernyms of all synsets associated with the input word and compute the shortest distance leading there.\n",
    "    :param word: input word\n",
    "    :return: dict that matches all reachable hypernyms to their shortest distance\n",
    "    \"\"\"\n",
    "    # your code here\n",
    "    return"
   ]
  },
  {
   "cell_type": "markdown",
   "id": "49270f8b",
   "metadata": {},
   "source": [
    "__d)__  Write a function ``get_dist`` that returns the word similarity between two input words, according to the formula given in the task description at the beginning.  \n",
    "\n",
    "Use the signature in the cell below."
   ]
  },
  {
   "cell_type": "code",
   "execution_count": 7,
   "id": "b0a4e8dc",
   "metadata": {},
   "outputs": [],
   "source": [
    "def get_dist(w1 : str, w2 : str) -> float:\n",
    "    \"\"\"Compute the similarity between two input words in the WordNet hierarchy tree.\n",
    "    :param w1: first input word\n",
    "    :param w2: second input word\n",
    "    :return: word similarity\n",
    "    \"\"\"\n",
    "    # your code here\n",
    "    return"
   ]
  },
  {
   "cell_type": "markdown",
   "id": "3426121d",
   "metadata": {},
   "source": [
    "### Task 2: Lesk algorithm\n",
    "\n",
    "In this task we want to implement a simple version of the Lesk algorithm, a thesaurus-based method for word sense disambiguation. Given a target word $w$ and a context, the algorithm finds the word sense that is most fitting in the context. To achieve this, the Lesk algorithm computes the number of overlapping words between the context sentence and the definitions of the WordNet synsets, associated with $w$.\n",
    "\n",
    "Write a function ``lesk`` that takes a word and a context string (e.g. a sentence) and returns the most fitting sense from the synsets associated with the word and the corresponding context overlap. The most fitting sense is the one whose definition shares the most words with the context string. Before matching tokens, make sure to \n",
    "\n",
    "* only include valid tokens (cf. HA 1, task 2a)\n",
    "* remove stopwords\n",
    "* only match stems of words (e.g. consider the ``PorterStemmer`` from ``nltk``)\n",
    "\n",
    "When computing the context overlap, count each stemmed word only once, even if they occur multiple times. If there is no fitting synset, i.e. the context overlap between the context and the synset definitions is 0, return None instead.\n",
    "\n",
    "Use the signature in the cell below."
   ]
  },
  {
   "cell_type": "code",
   "execution_count": 8,
   "id": "055d9147",
   "metadata": {},
   "outputs": [],
   "source": [
    "# HA 1, task 2a)\n",
    "from nltk.corpus.reader.util import StreamBackedCorpusView\n",
    "from nltk.corpus import stopwords\n",
    "import re\n",
    "import string\n",
    "\n",
    "def get_valid_tokens(tokens: Union[List[str], StreamBackedCorpusView], remove_stopwords: bool=False) -> List[str]:\n",
    "    \"\"\"\n",
    "    :param tokens: list of tokens that should be cleaned\n",
    "    :param remove_stopwords: bool indicating if stopwords should be removed\n",
    "                             False by default\n",
    "    :return: list of valid tokens\n",
    "    \"\"\"\n",
    "    valid = []\n",
    "    punct = string.punctuation\n",
    "    stop = stopwords.words('english')\n",
    "    digit = re.compile(r\"\\d+\")\n",
    "\n",
    "    for t in tokens:\n",
    "        if t in punct:\n",
    "            continue\n",
    "        if remove_stopwords and t.lower() in stop:\n",
    "            continue\n",
    "        if re.fullmatch(digit, t):\n",
    "            continue\n",
    "        valid.append(t.lower())\n",
    "    return valid"
   ]
  },
  {
   "cell_type": "code",
   "execution_count": 9,
   "id": "054adffc",
   "metadata": {},
   "outputs": [],
   "source": [
    "def lesk(word: str, context: str) -> (Synset, int):\n",
    "    '''\n",
    "    Compute the most probable sense of a word in the given context.\n",
    "    :param word: ambiguous word\n",
    "    :param context: context in which the word appears\n",
    "    :returns:\n",
    "        - synset with the most likely word sense\n",
    "        - context overlap of synset and context\n",
    "    '''\n",
    "    # your code here\n",
    "    return"
   ]
  },
  {
   "cell_type": "markdown",
   "id": "1f37f1ef",
   "metadata": {},
   "source": [
    "### Task 3: Minimum cost string alignment\n",
    "\n",
    "In this tak we want to compute an alignment between two strings, that has minimum edit distance. \n",
    "\n",
    "Implement a function that takes two strings and their edit distance matrix and returns a minimum cost alignment. You can assume that the edit distance matrix is provided by the function that you implemented in exercise 3, task 2, with a substitution cost of 2. \n",
    "\n",
    "A minimum cost alignment consists of two strings that, printed below each other comprise the alignment, where insertions and deletions are represented by a ``*``. Use the function signature in the cell below.\n",
    "\n",
    "__Example:__ _Given the input strings_ `\"INTENTION\"` _and_ `\"EXECUTION\"` _and the corresponding edit distance matrix:_\n",
    "\n",
    "```\n",
    "[[ 0  1  2  3  4  5  6  7  8  9]\n",
    " [ 1  2  3  4  5  6  7  6  7  8]\n",
    " [ 2  3  4  5  6  7  8  7  8  7]\n",
    " [ 3  4  5  6  7  8  7  8  9  8]\n",
    " [ 4  3  4  5  6  7  8  9 10  9]\n",
    " [ 5  4  5  6  7  8  9 10 11 10]\n",
    " [ 6  5  6  7  8  9  8  9 10 11]\n",
    " [ 7  6  7  8  9 10  9  8  9 10]\n",
    " [ 8  7  8  9 10 11 10  9  8  9]\n",
    " [ 9  8  9 10 11 12 11 10  9  8]]\n",
    "```\n",
    "  \n",
    "_your function should return the two strings_ ``INTE***NTION`` _and_ ``***EXECUTION`` _that represent the alignment, when printed below each other:_\n",
    " \n",
    " ``INTE***NTION``    \n",
    " ``***EXECUTION`` \n",
    " \n",
    " __Remark:__ _The alignment in the example above is not the only solution. In this task all alignments with minimum edit distance are accepted._\n"
   ]
  },
  {
   "cell_type": "code",
   "execution_count": 29,
   "id": "5bd021e9",
   "metadata": {
    "ExecuteTime": {
     "end_time": "2024-05-16T17:02:21.498126600Z",
     "start_time": "2024-05-16T17:02:21.486068600Z"
    }
   },
   "outputs": [],
   "source": [
    "import numpy as np\n",
    "\n",
    "def get_alignment(str1: str, str2: str, D) -> tuple[str, str]:\n",
    "    '''\n",
    "    :param str1: first string for alignment\n",
    "    :param str2: second string for alignment\n",
    "    :param D: edit distance matrix of str1 and str2\n",
    "    :returns: tuple of strings that indicate the alignment of the input strings\n",
    "    '''\n",
    "    # your code here\n",
    "    i, j = len(D) - 1, len(D[0]) - 1 \n",
    "    str1_allignment = ''\n",
    "    str2_allignment = ''\n",
    "    \n",
    "    while i != 0 and j !=0:\n",
    "        if str1[i-1] == str2[j-1]:\n",
    "            str1_allignment = str1[i-1] + str1_allignment\n",
    "            str2_allignment = str2[j-1] + str2_allignment\n",
    "            i -= 1\n",
    "            j -= 1\n",
    "            print(str1_allignment, str2_allignment)\n",
    "        else: \n",
    "            curr_dic = {(i-1,j-1) : D[i-1,j-1], (i,j-1) : D[i,j-1], (i-1,j) : D[i-1,j]}\n",
    "            min_i,min_j = min(curr_dic, key = curr_dic.get)\n",
    "            print(min_i,i, min_j,j)\n",
    "            if i == min_i and min_j == j-1:\n",
    "                str1_allignment = '*' + str1_allignment\n",
    "                str2_allignment = str2[j-1] + str2_allignment\n",
    "            if min_i == i-1 and min_j == j:\n",
    "                str1_allignment = str1[i-1] + str1_allignment\n",
    "                str2_allignment = '*' + str2_allignment\n",
    "            else: \n",
    "                str1_allignment = str1[i-1] + str1_allignment\n",
    "                str2_allignment = str2[j-1] + str2_allignment\n",
    "            \n",
    "            i = min_i\n",
    "            j = min_j\n",
    "\n",
    "    return (str1_allignment, str2_allignment)"
   ]
  },
  {
   "cell_type": "code",
   "execution_count": 12,
   "outputs": [
    {
     "data": {
      "text/plain": "(9, 9)"
     },
     "execution_count": 12,
     "metadata": {},
     "output_type": "execute_result"
    }
   ],
   "source": [
    "i, j = len(D) - 1, len(D[0]) - 1 \n",
    "i,j"
   ],
   "metadata": {
    "collapsed": false,
    "ExecuteTime": {
     "end_time": "2024-05-16T16:56:38.606828400Z",
     "start_time": "2024-05-16T16:56:38.573709100Z"
    }
   },
   "id": "9c1adb6f8db1bbd2"
  },
  {
   "cell_type": "code",
   "execution_count": 34,
   "outputs": [
    {
     "name": "stdout",
     "output_type": "stream",
     "text": [
      "8 9 8 9\n",
      "7 8 7 8\n",
      "6 7 6 7\n",
      "5 6 5 6\n",
      "4 5 4 5\n",
      "4 4 3 4\n",
      "4 4 2 3\n",
      "4 4 1 2\n",
      "3 4 0 1\n"
     ]
    },
    {
     "data": {
      "text/plain": "('nn*n*n*tenti', 'exxeeccution')"
     },
     "execution_count": 34,
     "metadata": {},
     "output_type": "execute_result"
    }
   ],
   "source": [
    "D = np.array([\n",
    "    [0, 1, 2, 3, 4, 5, 6, 7, 8, 9],\n",
    "    [1, 2, 3, 4, 5, 6, 7, 6, 7, 8],\n",
    "    [2, 3, 4, 5, 6, 7, 8, 7, 8, 7],\n",
    "    [3, 4, 5, 6, 7, 8, 7, 8, 9, 8],\n",
    "    [4, 3, 4, 5, 6, 7, 8, 9, 10, 9],\n",
    "    [5, 4, 5, 6, 7, 8, 9, 10, 11, 10],\n",
    "    [6, 5, 6, 7, 8, 9, 8, 9, 10, 11],\n",
    "    [7, 6, 7, 8, 9, 10, 9, 8, 9, 10],\n",
    "    [8, 7, 8, 9, 10, 11, 10, 9, 8, 9],\n",
    "    [9, 8, 9, 10, 11, 12, 11, 10, 9, 8],\n",
    "])\n",
    "\n",
    "str1 = 'aaintention'\n",
    "str2 = 'execution'\n",
    "\n",
    "get_alignment(str1, str2, array_input)"
   ],
   "metadata": {
    "collapsed": false,
    "ExecuteTime": {
     "end_time": "2024-05-16T17:07:56.360504600Z",
     "start_time": "2024-05-16T17:07:56.297658100Z"
    }
   },
   "id": "4cad9d7214b11067"
  },
  {
   "cell_type": "code",
   "execution_count": 2,
   "outputs": [
    {
     "ename": "KeyboardInterrupt",
     "evalue": "",
     "output_type": "error",
     "traceback": [
      "\u001B[1;31m---------------------------------------------------------------------------\u001B[0m",
      "\u001B[1;31mKeyboardInterrupt\u001B[0m                         Traceback (most recent call last)",
      "Cell \u001B[1;32mIn[2], line 51\u001B[0m\n\u001B[0;32m     38\u001B[0m str2 \u001B[38;5;241m=\u001B[39m \u001B[38;5;124m\"\u001B[39m\u001B[38;5;124mbaumhaus\u001B[39m\u001B[38;5;124m\"\u001B[39m\n\u001B[0;32m     39\u001B[0m D \u001B[38;5;241m=\u001B[39m np\u001B[38;5;241m.\u001B[39marray([\n\u001B[0;32m     40\u001B[0m     [\u001B[38;5;241m0\u001B[39m, \u001B[38;5;241m1\u001B[39m, \u001B[38;5;241m2\u001B[39m, \u001B[38;5;241m3\u001B[39m, \u001B[38;5;241m4\u001B[39m, \u001B[38;5;241m5\u001B[39m, \u001B[38;5;241m6\u001B[39m, \u001B[38;5;241m7\u001B[39m, \u001B[38;5;241m8\u001B[39m, \u001B[38;5;241m9\u001B[39m],\n\u001B[0;32m     41\u001B[0m     [\u001B[38;5;241m1\u001B[39m, \u001B[38;5;241m2\u001B[39m, \u001B[38;5;241m3\u001B[39m, \u001B[38;5;241m4\u001B[39m, \u001B[38;5;241m5\u001B[39m, \u001B[38;5;241m6\u001B[39m, \u001B[38;5;241m7\u001B[39m, \u001B[38;5;241m6\u001B[39m, \u001B[38;5;241m7\u001B[39m, \u001B[38;5;241m8\u001B[39m],\n\u001B[1;32m   (...)\u001B[0m\n\u001B[0;32m     49\u001B[0m     [\u001B[38;5;241m9\u001B[39m, \u001B[38;5;241m8\u001B[39m, \u001B[38;5;241m9\u001B[39m, \u001B[38;5;241m10\u001B[39m, \u001B[38;5;241m11\u001B[39m, \u001B[38;5;241m12\u001B[39m, \u001B[38;5;241m11\u001B[39m, \u001B[38;5;241m10\u001B[39m, \u001B[38;5;241m9\u001B[39m, \u001B[38;5;241m8\u001B[39m]\n\u001B[0;32m     50\u001B[0m ])\n\u001B[1;32m---> 51\u001B[0m alignment \u001B[38;5;241m=\u001B[39m get_alignment_chat(str1, str2, D)\n\u001B[0;32m     52\u001B[0m \u001B[38;5;28mprint\u001B[39m(alignment[\u001B[38;5;241m0\u001B[39m])\n\u001B[0;32m     53\u001B[0m \u001B[38;5;28mprint\u001B[39m(alignment[\u001B[38;5;241m1\u001B[39m])\n",
      "Cell \u001B[1;32mIn[2], line 16\u001B[0m, in \u001B[0;36mget_alignment_chat\u001B[1;34m(str1, str2, D)\u001B[0m\n\u001B[0;32m     13\u001B[0m aligned_str1 \u001B[38;5;241m=\u001B[39m \u001B[38;5;124m'\u001B[39m\u001B[38;5;124m'\u001B[39m\n\u001B[0;32m     14\u001B[0m aligned_str2 \u001B[38;5;241m=\u001B[39m \u001B[38;5;124m'\u001B[39m\u001B[38;5;124m'\u001B[39m\n\u001B[1;32m---> 16\u001B[0m \u001B[38;5;28;01mwhile\u001B[39;00m i \u001B[38;5;241m>\u001B[39m \u001B[38;5;241m0\u001B[39m \u001B[38;5;129;01mor\u001B[39;00m j \u001B[38;5;241m>\u001B[39m \u001B[38;5;241m0\u001B[39m:\n\u001B[0;32m     17\u001B[0m     \u001B[38;5;28;01mif\u001B[39;00m i \u001B[38;5;241m>\u001B[39m \u001B[38;5;241m0\u001B[39m \u001B[38;5;129;01mand\u001B[39;00m j \u001B[38;5;241m>\u001B[39m \u001B[38;5;241m0\u001B[39m \u001B[38;5;129;01mand\u001B[39;00m D[i, j] \u001B[38;5;241m==\u001B[39m D[i\u001B[38;5;241m-\u001B[39m\u001B[38;5;241m1\u001B[39m, j\u001B[38;5;241m-\u001B[39m\u001B[38;5;241m1\u001B[39m] \u001B[38;5;241m+\u001B[39m (\u001B[38;5;241m0\u001B[39m \u001B[38;5;28;01mif\u001B[39;00m str1[i\u001B[38;5;241m-\u001B[39m\u001B[38;5;241m1\u001B[39m] \u001B[38;5;241m==\u001B[39m str2[j\u001B[38;5;241m-\u001B[39m\u001B[38;5;241m1\u001B[39m] \u001B[38;5;28;01melse\u001B[39;00m \u001B[38;5;241m2\u001B[39m):\n\u001B[0;32m     18\u001B[0m         \u001B[38;5;66;03m# Diagonal move, match or mismatch\u001B[39;00m\n\u001B[0;32m     19\u001B[0m         aligned_str1 \u001B[38;5;241m=\u001B[39m str1[i\u001B[38;5;241m-\u001B[39m\u001B[38;5;241m1\u001B[39m] \u001B[38;5;241m+\u001B[39m aligned_str1\n",
      "\u001B[1;31mKeyboardInterrupt\u001B[0m: "
     ]
    }
   ],
   "source": [
    "import numpy as np\n",
    "\n",
    "def get_alignment_chat(str1: str, str2: str, D: np.ndarray) -> tuple[str, str]:\n",
    "    \"\"\"\n",
    "    Compute a minimum cost alignment between two strings using a provided edit distance matrix.\n",
    "\n",
    "    :param str1: First string for alignment.\n",
    "    :param str2: Second string for alignment.\n",
    "    :param D: Edit distance matrix of str1 and str2.\n",
    "    :returns: Tuple of strings that indicate the alignment of the input strings.\n",
    "    \"\"\"\n",
    "    i, j = len(str1), len(str2)\n",
    "    aligned_str1 = ''\n",
    "    aligned_str2 = ''\n",
    "    \n",
    "    while i > 0 or j > 0:\n",
    "        if i > 0 and j > 0 and D[i, j] == D[i-1, j-1] + (0 if str1[i-1] == str2[j-1] else 2):\n",
    "            # Diagonal move, match or mismatch\n",
    "            aligned_str1 = str1[i-1] + aligned_str1\n",
    "            aligned_str2 = str2[j-1] + aligned_str2\n",
    "            i -= 1\n",
    "            j -= 1\n",
    "        elif i > 0 and D[i, j] == D[i-1, j] + 1:\n",
    "            # Vertical move, deletion in str2\n",
    "            aligned_str1 = str1[i-1] + aligned_str1\n",
    "            aligned_str2 = '*' + aligned_str2\n",
    "            i -= 1\n",
    "        elif j > 0 and D[i, j] == D[i, j-1] + 1:\n",
    "            # Horizontal move, insertion in str1\n",
    "            aligned_str1 = '*' + aligned_str1\n",
    "            aligned_str2 = str2[j-1] + aligned_str2\n",
    "            j -= 1\n",
    "\n",
    "    return (aligned_str1, aligned_str2)\n",
    "\n",
    "# Example usage:\n",
    "str1 = \"autohaus\"\n",
    "str2 = \"baumhaus\"\n",
    "D = np.array([\n",
    "    [0, 1, 2, 3, 4, 5, 6, 7, 8, 9],\n",
    "    [1, 2, 3, 4, 5, 6, 7, 6, 7, 8],\n",
    "    [2, 3, 4, 5, 6, 7, 8, 7, 8, 7],\n",
    "    [3, 4, 5, 6, 7, 8, 7, 8, 9, 8],\n",
    "    [4, 3, 4, 5, 6, 7, 8, 9, 10, 9],\n",
    "    [5, 4, 5, 6, 7, 8, 9, 10, 11, 10],\n",
    "    [6, 5, 6, 7, 8, 9, 8, 9, 10, 11],\n",
    "    [7, 6, 7, 8, 9, 10, 9, 8, 9, 10],\n",
    "    [8, 7, 8, 9, 10, 11, 10, 9, 8, 9],\n",
    "    [9, 8, 9, 10, 11, 12, 11, 10, 9, 8]\n",
    "])\n",
    "alignment = get_alignment_chat(str1, str2, D)\n",
    "print(alignment[0])\n",
    "print(alignment[1])\n"
   ],
   "metadata": {
    "collapsed": false,
    "ExecuteTime": {
     "end_time": "2024-05-23T12:49:21.285583600Z",
     "start_time": "2024-05-23T12:48:30.271240300Z"
    }
   },
   "id": "253a494f4e356050"
  },
  {
   "cell_type": "code",
   "execution_count": null,
   "outputs": [],
   "source": [],
   "metadata": {
    "collapsed": false
   },
   "id": "53000d361887665e"
  }
 ],
 "metadata": {
  "kernelspec": {
   "display_name": "Python 3 (ipykernel)",
   "language": "python",
   "name": "python3"
  },
  "language_info": {
   "codemirror_mode": {
    "name": "ipython",
    "version": 3
   },
   "file_extension": ".py",
   "mimetype": "text/x-python",
   "name": "python",
   "nbconvert_exporter": "python",
   "pygments_lexer": "ipython3",
   "version": "3.11.9"
  }
 },
 "nbformat": 4,
 "nbformat_minor": 5
}
