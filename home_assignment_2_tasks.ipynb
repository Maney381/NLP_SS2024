{
 "cells": [
  {
   "cell_type": "markdown",
   "id": "c295abce",
   "metadata": {},
   "source": [
    "# Home Assignment 2 (30 points)\n",
    "\n",
    "Submit your solutions in teams of 5 students. Unless explicitly agreed otherwise in advance, **submissions from teams with more or less members will NOT be graded**.\n",
    "List all members of the team with their student ID in the cell below, and submit only one notebook per team. Only submit a notebook, do not submit the dataset(s) you used. Also, do NOT compress/zip your submission (incorrect submissions get 0 points)!\n",
    "\n",
    "You may use the code from the exercises and basic functionalities that are explained in official documentation of Python packages without citing, __all other sources must be cited__. In case of plagiarism (copying solutions from other teams or from the internet) ALL team members may be expelled from the course without warning.\n",
    "\n",
    "#### General guidelines:\n",
    "* Make sure that your code is executable, any task for which the code does not directly run on our machine will be graded with 0 points. We use the conda environment given below.\n",
    "* If you use packages that are not available on the default or conda-forge channel, list them below. Also add a link to installation instructions.\n",
    "* Demonstrate that your code works by providing outputs for test inputs or with simple unit tests (`assert actual == expected`).\n",
    "* Ensure that the notebook does not rely on the current notebook or system state!\n",
    "  * Use `Kernel --> Restart & Run All` to see if you are using any definitions, variables etc. that \n",
    "    are not in scope anymore.\n",
    "  * Do not rename any of the datasets you use, and load it from the same directory that your ipynb-notebook is located in, i.e., your working directory.\n",
    "* Make sure you clean up your code before submission, e.g., properly align your code, and delete every line of code that you do not need anymore, even if you may have experimented with it. Minimize usage of global variables. Avoid reusing variable names multiple times!\n",
    "* Ensure your code/notebook terminates in reasonable time.\n",
    "* Feel free to use comments in the code. While we do not require them to get full marks, they may help us in case your code has minor errors.\n",
    "* For questions that require a textual answer, please do not write the answer as a comment in a code cell, but in a Markdown cell below the code. Always remember to provide sufficient justification for all answers.\n",
    "* You may create as many additional cells as you want, just make sure that the solutions to the individual tasks can be found near the corresponding assignment.\n",
    "* If you have any general question regarding the understanding of some task, do not hesitate to post on Slack, so we can clear up such questions for all students in the course.\n",
    "\n",
    "\n",
    "Conda environment used for grading:\n",
    "\n",
    "```yml\n",
    "name: nlp-ss2024\n",
    "channels:\n",
    "  - defaults\n",
    "dependencies:\n",
    "  - python=3.11\n",
    "  - pip\n",
    "  - pip:\n",
    "    - numpy==1.26.4\n",
    "    - nltk==3.8.1\n",
    "    - scikit-learn==1.4.2\n",
    "    - scipy==1.13.0\n",
    "    - notebook\n",
    "```\n",
    "\n",
    "\n",
    "### AI Disclosure\n",
    "\n",
    "Did you use any AI assistance to complete this homework? If so, please also specify what AI you used.\n",
    "   - [ ] Yes, we used the following assistants: ....\n",
    "   - [ ] No \n",
    "\n",
    "---\n",
    "*(only complete the below questions if you answered yes above)*\n",
    "\n",
    "* If you used a large language model to assist you, please paste *all* of the prompts that you used below. Add a separate bullet for each prompt, and specify which problem is associated with which prompt.\n",
    "    * *your response here*\n",
    "* **Free response**: For each problem for which you used assistance, describe your overall experience with the AI. How helpful was it? Did it just directly give you a good answer, or did you have to edit it? Was its output ever obviously wrong or irrelevant? Did you use it to get the answer or check your own answer?\n",
    "    * *your response here*"
   ]
  },
  {
   "cell_type": "code",
   "execution_count": 86,
   "id": "29e66e9f",
   "metadata": {
    "ExecuteTime": {
     "end_time": "2024-05-15T12:46:33.904673Z",
     "start_time": "2024-05-15T12:46:33.867660100Z"
    }
   },
   "outputs": [],
   "source": [
    "import sys\n",
    "\n",
    "# UMR Usernames of all group members (<Username>@students.uni-marburg.de)\n",
    "team_members = [\n",
    "    \"Student1\",\n",
    "    \"Student2\",\n",
    "    \"...\"\n",
    "]"
   ]
  },
  {
   "cell_type": "markdown",
   "id": "d7a19c09",
   "metadata": {},
   "source": [
    "Additional packages (if any):\n",
    " - Example: `powerlaw`, https://github.com/jeffalstott/powerlaw"
   ]
  },
  {
   "cell_type": "code",
   "execution_count": 87,
   "id": "7c5e2d05",
   "metadata": {
    "ExecuteTime": {
     "end_time": "2024-05-15T12:46:33.931620500Z",
     "start_time": "2024-05-15T12:46:33.907683400Z"
    }
   },
   "outputs": [],
   "source": [
    "from typing import List, Union, Dict, Set, Tuple, Sequence\n",
    "from numpy.typing import NDArray"
   ]
  },
  {
   "cell_type": "markdown",
   "id": "91edf14c",
   "metadata": {},
   "source": [
    "### Task 1: WordNet word similarity\n",
    "\n",
    "In this task, we want to implement the similarity between two words in WordNet (https://www.nltk.org/api/nltk.corpus.reader.wordnet.html) using the NLTK package. The word similarity between two words is given by\n",
    "$$\n",
    "\\frac{1}{1+d}\n",
    "$$\n",
    "where $d$ is the distance of the shortest path in the hypernym/hyponym hierarchy tree in WordNet between any pair of synsets that are associated with the two input words.\n",
    "\n",
    "From NLTK you should __only__ use the `synsets`, `hypernyms` and `instance_hpyernyms` functions.\n",
    "\n",
    "The following subtasks build on each other, i.e. the functions of the preceding subtasks can be used for the current subtask.\n",
    "\n",
    "_Note: the distance of a synset to itself is 0, the distance to a direct hypernym is 1, ..._"
   ]
  },
  {
   "cell_type": "code",
   "execution_count": 88,
   "id": "7f2b0d09",
   "metadata": {
    "ExecuteTime": {
     "end_time": "2024-05-15T12:46:33.957307500Z",
     "start_time": "2024-05-15T12:46:33.936276Z"
    }
   },
   "outputs": [],
   "source": [
    "from nltk.corpus import wordnet as wn\n",
    "from nltk.corpus.reader.wordnet import Synset"
   ]
  },
  {
   "cell_type": "markdown",
   "id": "f3a6c82f",
   "metadata": {},
   "source": [
    "__a)__ Write a function ``shortest_paths_to`` that takes a synset as input and computes the shortest paths to all nodes on the way to the root in the hypernym hierarchy tree of WordNet. The function should return a dictionary that matches all visited hypernyms on the way(s) to the root to the distance of the shortest path from the input synset. Consider that a synset might have multiple paths to the root and that some nodes might appear in multiple paths. However, we only want to store the shortest distances. Moreover, keep in mind that the input synset might be an instance. \n",
    "\n",
    "Use the signature in the cell below.\n",
    "\n",
    "__Example:__ _Calling_ ``shortest_paths_to(s)`` _on the synset_ ``s = wn.synset('calculator.n.01')`` _should yield the following result:_\n",
    "\n",
    "``\n",
    "{Synset('calculator.n.01'): 0,\n",
    " Synset('expert.n.01'): 1,\n",
    " Synset('person.n.01'): 2,\n",
    " Synset('causal_agent.n.01'): 3,\n",
    " Synset('organism.n.01'): 3,\n",
    " Synset('physical_entity.n.01'): 4,\n",
    " Synset('living_thing.n.01'): 4,\n",
    " Synset('entity.n.01'): 5,\n",
    " Synset('whole.n.02'): 5,\n",
    " Synset('object.n.01'): 6}\n",
    "``"
   ]
  },
  {
   "cell_type": "code",
   "execution_count": 89,
   "id": "c9d66e04",
   "metadata": {
    "ExecuteTime": {
     "end_time": "2024-05-15T12:46:33.991892700Z",
     "start_time": "2024-05-15T12:46:33.965363700Z"
    }
   },
   "outputs": [],
   "source": [
    "def shortest_paths_to(start_syn: Synset) -> Dict[Synset, int]:\n",
    "    \"\"\"Compute the shortest distance to all nodes on paths to the root.\n",
    "    :param start_syn: synset to which we want to compute the shortest distances\n",
    "    :return: dict that matches all visited hypernyms to their distance to the input synset\n",
    "    \"\"\"\n",
    "    paths = {}\n",
    "    for path in start_syn.hypernym_paths():\n",
    "        i = len(path)-1\n",
    "        for node in path:\n",
    "            if node not in paths:\n",
    "                paths[node] = i\n",
    "            else:\n",
    "                paths[node] = min(paths[node], i)\n",
    "            i = i-1\n",
    "    # your code here\n",
    "    return paths"
   ]
  },
  {
   "cell_type": "code",
   "outputs": [],
   "source": [
    "\n",
    "a = shortest_paths_to(wn.synset('calculator.n.01'))\n",
    "b = {\n",
    "    wn.synset('calculator.n.01'): 0,\n",
    "    wn.synset('expert.n.01'): 1,\n",
    "    wn.synset('person.n.01'): 2,\n",
    "    wn.synset('causal_agent.n.01'): 3,\n",
    "    wn.synset('organism.n.01'): 3,\n",
    "    wn.synset('physical_entity.n.01'): 4,\n",
    "    wn.synset('living_thing.n.01'): 4,\n",
    "    wn.synset('entity.n.01'): 5,\n",
    "    wn.synset('whole.n.02'): 5,\n",
    "    wn.synset('object.n.01'): 6\n",
    "}\n",
    "assert a == b"
   ],
   "metadata": {
    "collapsed": false,
    "ExecuteTime": {
     "end_time": "2024-05-15T12:46:34.015394700Z",
     "start_time": "2024-05-15T12:46:33.999377100Z"
    }
   },
   "id": "dba71b4a89731506",
   "execution_count": 90
  },
  {
   "cell_type": "markdown",
   "id": "3fda6f14",
   "metadata": {},
   "source": [
    "__b)__ Write a function ``merge_paths`` that gets two dictionaries that map synsets to shortest distances (you can assume they were created by the function from __a)__) and merges them. The function shold return a dictionary that includes all synsets and distances that appear in any of the input dictionaries. If a synset appears in both input dictionaries, we want to keep the shorter distance. Leave the input dictionaries unaltered.\n",
    "\n",
    "Use the signature in the cell below."
   ]
  },
  {
   "cell_type": "code",
   "execution_count": 91,
   "id": "41ffe524",
   "metadata": {
    "ExecuteTime": {
     "end_time": "2024-05-15T12:46:34.041574500Z",
     "start_time": "2024-05-15T12:46:34.023389500Z"
    }
   },
   "outputs": [],
   "source": [
    "def merge_paths(p1: Dict[Synset, int], p2: Dict[Synset, int]) -> Dict[Synset, int]:\n",
    "    \"\"\"Merge two paths keeping the shorter distance for synsets that appear more than once.\n",
    "    :param p1: first dict that maps synsets to their shortest distances\n",
    "    :param p2: second dict that maps synsets to their shortest distances\n",
    "    :return: merged dict\n",
    "    \"\"\"\n",
    "    merged_paths = p1\n",
    "    for key in p2:\n",
    "        if key in merged_paths:\n",
    "            merged_paths[key] = min(merged_paths[key], p2[key])\n",
    "        else:\n",
    "            merged_paths[key] = p2[key]\n",
    "    # your code here\n",
    "    return merged_paths"
   ]
  },
  {
   "cell_type": "code",
   "outputs": [
    {
     "name": "stdout",
     "output_type": "stream",
     "text": [
      "{Synset('entity.n.01'): 5, Synset('physical_entity.n.01'): 4, Synset('causal_agent.n.01'): 3, Synset('person.n.01'): 2, Synset('expert.n.01'): 1, Synset('calculator.n.01'): 0, Synset('object.n.01'): 6, Synset('whole.n.02'): 5, Synset('living_thing.n.01'): 4, Synset('organism.n.01'): 3, Synset('artifact.n.01'): 4, Synset('instrumentality.n.03'): 3, Synset('equipment.n.01'): 2, Synset('electronic_equipment.n.01'): 1, Synset('telephone.n.01'): 0}\n"
     ]
    }
   ],
   "source": [
    "b = shortest_paths_to(wn.synset('phone.n.01'))\n",
    "merged = merge_paths(a,shortest_paths_to(wn.synset('phone.n.01')))\n",
    "print(merged)"
   ],
   "metadata": {
    "collapsed": false,
    "ExecuteTime": {
     "end_time": "2024-05-15T12:46:34.075163500Z",
     "start_time": "2024-05-15T12:46:34.027988800Z"
    }
   },
   "id": "fb0525cf3f9c2cc1",
   "execution_count": 92
  },
  {
   "cell_type": "markdown",
   "id": "ade7ce46",
   "metadata": {},
   "source": [
    "__c)__ Write a function ``all_hypernym_paths`` that gets a word as input and returns a dictionary that maps all hypernyms that are reachable from the set of synsets associated with the word to the shortest distance leading there.\n",
    "\n",
    "Use the signature in the cell below."
   ]
  },
  {
   "cell_type": "code",
   "execution_count": 93,
   "id": "13112dc7",
   "metadata": {
    "ExecuteTime": {
     "end_time": "2024-05-15T12:46:34.076146Z",
     "start_time": "2024-05-15T12:46:34.050573800Z"
    }
   },
   "outputs": [],
   "source": [
    "def all_hypernym_paths(word: str) -> Dict[Synset, int]:\n",
    "    \"\"\"Get all hypernyms of all synsets associated with the input word and compute the shortest distance leading there.\n",
    "    :param word: input word\n",
    "    :return: dict that matches all reachable hypernyms to their shortest distance\n",
    "    \"\"\"\n",
    "    # your code here\n",
    "    combined = {}\n",
    "    synsets = wn.synsets(word)\n",
    "    for synset in synsets:\n",
    "        shortest_path = shortest_paths_to(synset)\n",
    "        combined = merge_paths(combined, shortest_path)\n",
    "    return combined"
   ]
  },
  {
   "cell_type": "code",
   "outputs": [
    {
     "data": {
      "text/plain": "{Synset('entity.n.01'): 5,\n Synset('physical_entity.n.01'): 4,\n Synset('causal_agent.n.01'): 3,\n Synset('person.n.01'): 2,\n Synset('expert.n.01'): 1,\n Synset('calculator.n.01'): 0,\n Synset('object.n.01'): 6,\n Synset('whole.n.02'): 5,\n Synset('living_thing.n.01'): 4,\n Synset('organism.n.01'): 3,\n Synset('artifact.n.01'): 4,\n Synset('instrumentality.n.03'): 3,\n Synset('device.n.01'): 2,\n Synset('machine.n.01'): 1,\n Synset('calculator.n.02'): 0}"
     },
     "execution_count": 94,
     "metadata": {},
     "output_type": "execute_result"
    }
   ],
   "source": [
    "all_hypernym_paths('calculator')"
   ],
   "metadata": {
    "collapsed": false,
    "ExecuteTime": {
     "end_time": "2024-05-15T12:46:34.126139600Z",
     "start_time": "2024-05-15T12:46:34.084455900Z"
    }
   },
   "id": "1af621b897ab4db3",
   "execution_count": 94
  },
  {
   "cell_type": "markdown",
   "id": "49270f8b",
   "metadata": {},
   "source": [
    "__d)__  Write a function ``get_dist`` that returns the word similarity between two input words, according to the formula given in the task description at the beginning.  \n",
    "\n",
    "Use the signature in the cell below."
   ]
  },
  {
   "cell_type": "code",
   "execution_count": 108,
   "id": "b0a4e8dc",
   "metadata": {
    "ExecuteTime": {
     "end_time": "2024-05-15T13:04:25.903120700Z",
     "start_time": "2024-05-15T13:04:25.886186500Z"
    }
   },
   "outputs": [],
   "source": [
    "def get_dist(w1 : str, w2 : str) -> float:\n",
    "    \"\"\"Compute the similarity between two input words in the WordNet hierarchy tree.\n",
    "    :param w1: first input word\n",
    "    :param w2: second input word\n",
    "    :return: word similarity\n",
    "    \"\"\"\n",
    "    h1 = all_hypernym_paths(w1)\n",
    "    h2 = all_hypernym_paths(w2)\n",
    "    \n",
    "    common_hypernyms = list(set(h1.keys()).intersection(set(h2.keys())))\n",
    "    d = sys.maxsize\n",
    "    for common_hypernym in common_hypernyms:\n",
    "        d1 = h1[common_hypernym]\n",
    "        d2 = h2[common_hypernym]\n",
    "        d = min(d, d1+d2) \n",
    "    # your code here\n",
    "    return 1/(d+1)"
   ]
  },
  {
   "cell_type": "code",
   "outputs": [
    {
     "name": "stdout",
     "output_type": "stream",
     "text": [
      "9\n"
     ]
    },
    {
     "data": {
      "text/plain": "0.1"
     },
     "execution_count": 119,
     "metadata": {},
     "output_type": "execute_result"
    }
   ],
   "source": [
    "get_dist('line', 'semicolon')"
   ],
   "metadata": {
    "collapsed": false,
    "ExecuteTime": {
     "end_time": "2024-05-15T13:07:28.185949600Z",
     "start_time": "2024-05-15T13:07:28.180881700Z"
    }
   },
   "id": "b3ddc790310f3840",
   "execution_count": 119
  },
  {
   "cell_type": "markdown",
   "id": "3426121d",
   "metadata": {},
   "source": [
    "### Task 2: Lesk algorithm\n",
    "\n",
    "In this task we want to implement a simple version of the Lesk algorithm, a thesaurus-based method for word sense disambiguation. Given a target word $w$ and a context, the algorithm finds the word sense that is most fitting in the context. To achieve this, the Lesk algorithm computes the number of overlapping words between the context sentence and the definitions of the WordNet synsets, associated with $w$.\n",
    "\n",
    "Write a function ``lesk`` that takes a word and a context string (e.g. a sentence) and returns the most fitting sense from the synsets associated with the word and the corresponding context overlap. The most fitting sense is the one whose definition shares the most words with the context string. Before matching tokens, make sure to \n",
    "\n",
    "* only include valid tokens (cf. HA 1, task 2a)\n",
    "* remove stopwords\n",
    "* only match stems of words (e.g. consider the ``PorterStemmer`` from ``nltk``)\n",
    "\n",
    "When computing the context overlap, count each stemmed word only once, even if they occur multiple times. If there is no fitting synset, i.e. the context overlap between the context and the synset definitions is 0, return None instead.\n",
    "\n",
    "Use the signature in the cell below."
   ]
  },
  {
   "cell_type": "code",
   "execution_count": 120,
   "id": "055d9147",
   "metadata": {
    "ExecuteTime": {
     "end_time": "2024-05-15T13:17:41.043099500Z",
     "start_time": "2024-05-15T13:17:41.003391Z"
    }
   },
   "outputs": [],
   "source": [
    "# HA 1, task 2a)\n",
    "from nltk.corpus.reader.util import StreamBackedCorpusView\n",
    "from nltk.corpus import stopwords\n",
    "import re\n",
    "import string\n",
    "\n",
    "def get_valid_tokens(tokens: Union[List[str], StreamBackedCorpusView], remove_stopwords: bool=False) -> List[str]:\n",
    "    \"\"\"\n",
    "    :param tokens: list of tokens that should be cleaned\n",
    "    :param remove_stopwords: bool indicating if stopwords should be removed\n",
    "                             False by default\n",
    "    :return: list of valid tokens\n",
    "    \"\"\"\n",
    "    valid = []\n",
    "    punct = string.punctuation\n",
    "    stop = stopwords.words('english')\n",
    "    digit = re.compile(r\"\\d+\")\n",
    "\n",
    "    for t in tokens:\n",
    "        if t in punct:\n",
    "            continue\n",
    "        if remove_stopwords and t.lower() in stop:\n",
    "            continue\n",
    "        if re.fullmatch(digit, t):\n",
    "            continue\n",
    "        valid.append(t.lower())\n",
    "    return valid"
   ]
  },
  {
   "cell_type": "code",
   "execution_count": 98,
   "id": "054adffc",
   "metadata": {
    "ExecuteTime": {
     "end_time": "2024-05-15T12:46:34.255964400Z",
     "start_time": "2024-05-15T12:46:34.217947900Z"
    }
   },
   "outputs": [],
   "source": [
    "def lesk(word: str, context: str) -> (Synset, int):\n",
    "    '''\n",
    "    Compute the most probable sense of a word in the given context.\n",
    "    :param word: ambiguous word\n",
    "    :param context: context in which the word appears\n",
    "    :returns:\n",
    "        - synset with the most likely word sense\n",
    "        - context overlap of synset and context\n",
    "    '''\n",
    "    \n",
    "    \n",
    "    # your code here\n",
    "    return"
   ]
  },
  {
   "cell_type": "markdown",
   "id": "1f37f1ef",
   "metadata": {},
   "source": [
    "### Task 3: Minimum cost string alignment\n",
    "\n",
    "In this tak we want to compute an alignment between two strings, that has minimum edit distance. \n",
    "\n",
    "Implement a function that takes two strings and their edit distance matrix and returns a minimum cost alignment. You can assume that the edit distance matrix is provided by the function that you implemented in exercise 3, task 2, with a substitution cost of 2. \n",
    "\n",
    "A minimum cost alignment consists of two strings that, printed below each other comprise the alignment, where insertions and deletions are represented by a ``*``. Use the function signature in the cell below.\n",
    "\n",
    "__Example:__ _Given the input strings_ `\"INTENTION\"` _and_ `\"EXECUTION\"` _and the corresponding edit distance matrix:_\n",
    "\n",
    "```\n",
    "[[ 0  1  2  3  4  5  6  7  8  9]\n",
    " [ 1  2  3  4  5  6  7  6  7  8]\n",
    " [ 2  3  4  5  6  7  8  7  8  7]\n",
    " [ 3  4  5  6  7  8  7  8  9  8]\n",
    " [ 4  3  4  5  6  7  8  9 10  9]\n",
    " [ 5  4  5  6  7  8  9 10 11 10]\n",
    " [ 6  5  6  7  8  9  8  9 10 11]\n",
    " [ 7  6  7  8  9 10  9  8  9 10]\n",
    " [ 8  7  8  9 10 11 10  9  8  9]\n",
    " [ 9  8  9 10 11 12 11 10  9  8]]\n",
    "```\n",
    "  \n",
    "_your function should return the two strings_ ``INTE***NTION`` _and_ ``***EXECUTION`` _that represent the alignment, when printed below each other:_\n",
    " \n",
    " ``INTE***NTION``    \n",
    " ``***EXECUTION`` \n",
    " \n",
    " __Remark:__ _The alignment in the example above is not the only solution. In this task all alignments with minimum edit distance are accepted._\n"
   ]
  },
  {
   "cell_type": "code",
   "execution_count": 99,
   "id": "5bd021e9",
   "metadata": {
    "ExecuteTime": {
     "end_time": "2024-05-15T12:46:34.281263100Z",
     "start_time": "2024-05-15T12:46:34.264231500Z"
    }
   },
   "outputs": [],
   "source": [
    "def get_alignment(str1: str, str2: str, D: NDArray[NDArray[int]]) -> tuple[str, str]:\n",
    "    '''\n",
    "    :param str1: first string for alignment\n",
    "    :param str2: second string for alignment\n",
    "    :param D: edit distance matrix of str1 and str2\n",
    "    :returns: tuple of strings that indicate the alignment of the input strings\n",
    "    '''\n",
    "    # your code here\n",
    "    return"
   ]
  }
 ],
 "metadata": {
  "kernelspec": {
   "display_name": "Python 3 (ipykernel)",
   "language": "python",
   "name": "python3"
  },
  "language_info": {
   "codemirror_mode": {
    "name": "ipython",
    "version": 3
   },
   "file_extension": ".py",
   "mimetype": "text/x-python",
   "name": "python",
   "nbconvert_exporter": "python",
   "pygments_lexer": "ipython3",
   "version": "3.11.9"
  }
 },
 "nbformat": 4,
 "nbformat_minor": 5
}
